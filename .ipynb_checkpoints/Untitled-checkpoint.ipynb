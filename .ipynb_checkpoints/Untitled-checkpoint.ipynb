{
 "cells": [
  {
   "cell_type": "markdown",
   "metadata": {},
   "source": [
    "# OrderBot\n",
    "\n",
    "The purpose of the OrderBot is to interact with a customer, respond to their questions, and collect the complete order from a customer. The bot should be able to state the information about final order at the end of the conversation. \n",
    "\n",
    "Takeaways: \n",
    "1. How to set up the env for a bot development?\n",
    "2. Which functions help in developing a bot?\n",
    "3. How to structure the context to get the desired output?\n",
    "4. In each iteration understand whether the bot meets the expectation, and think about how to improve the situation.\n",
    "\n",
    "Limitation: The idea of this notebook is not about providing the complete seemless UI experience. \n"
   ]
  },
  {
   "cell_type": "code",
   "execution_count": 2,
   "metadata": {},
   "outputs": [],
   "source": [
    "# env set up\n",
    "import os\n",
    "import openai\n",
    "from dotenv import load_dotenv, find_dotenv\n",
    "_ = load_dotenv(find_dotenv()) # read local .env file\n",
    "\n",
    "# save the openai api key in your env\n",
    "# get the openai api key\n",
    "openai.api_key  = os.getenv('OPENAI_API_KEY')"
   ]
  },
  {
   "cell_type": "code",
   "execution_count": null,
   "metadata": {},
   "outputs": [],
   "source": []
  }
 ],
 "metadata": {
  "kernelspec": {
   "display_name": "Python 3",
   "language": "python",
   "name": "python3"
  },
  "language_info": {
   "codemirror_mode": {
    "name": "ipython",
    "version": 3
   },
   "file_extension": ".py",
   "mimetype": "text/x-python",
   "name": "python",
   "nbconvert_exporter": "python",
   "pygments_lexer": "ipython3",
   "version": "3.8.5"
  }
 },
 "nbformat": 4,
 "nbformat_minor": 4
}
