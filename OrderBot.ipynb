{
 "cells": [
  {
   "cell_type": "markdown",
   "metadata": {},
   "source": [
    "# OrderBot\n",
    "\n",
    "The purpose of the OrderBot is to interact with a customer, respond to their questions, and collect the complete order from a customer. The bot should be able to state the information about final order at the end of the conversation. \n",
    "\n",
    "Takeaways: \n",
    "1. How to set up the env for a bot development?\n",
    "2. Which functions help in developing a bot?\n",
    "3. How to structure the context to get the desired output?\n",
    "4. In each iteration understand whether the bot meets the expectation, and think about how to improve the situation.\n",
    "\n",
    "Limitation: The idea of this notebook is not about providing the complete seemless UI experience. \n"
   ]
  },
  {
   "cell_type": "code",
   "execution_count": 2,
   "metadata": {},
   "outputs": [],
   "source": [
    "# env set up\n",
    "import os\n",
    "import openai\n",
    "\n",
    "# save the openai api key in your env\n",
    "# get the openai api key\n",
    "openai.api_key  = os.getenv('OPENAI_API_KEY')"
   ]
  },
  {
   "cell_type": "code",
   "execution_count": 1,
   "metadata": {},
   "outputs": [
    {
     "name": "stdout",
     "output_type": "stream",
     "text": [
      "Collecting dotenv\n",
      "  Using cached dotenv-0.0.5.tar.gz (2.4 kB)\n",
      "  Preparing metadata (setup.py) ... \u001b[?25lerror\n",
      "  \u001b[1;31merror\u001b[0m: \u001b[1msubprocess-exited-with-error\u001b[0m\n",
      "  \n",
      "  \u001b[31m×\u001b[0m \u001b[32mpython setup.py egg_info\u001b[0m did not run successfully.\n",
      "  \u001b[31m│\u001b[0m exit code: \u001b[1;36m1\u001b[0m\n",
      "  \u001b[31m╰─>\u001b[0m \u001b[31m[62 lines of output]\u001b[0m\n",
      "  \u001b[31m   \u001b[0m   error: subprocess-exited-with-error\n",
      "  \u001b[31m   \u001b[0m \n",
      "  \u001b[31m   \u001b[0m   × python setup.py egg_info did not run successfully.\n",
      "  \u001b[31m   \u001b[0m   │ exit code: 1\n",
      "  \u001b[31m   \u001b[0m   ╰─> [16 lines of output]\n",
      "  \u001b[31m   \u001b[0m       Traceback (most recent call last):\n",
      "  \u001b[31m   \u001b[0m         File \"<string>\", line 2, in <module>\n",
      "  \u001b[31m   \u001b[0m         File \"<pip-setuptools-caller>\", line 14, in <module>\n",
      "  \u001b[31m   \u001b[0m         File \"/private/var/folders/4c/hfqybgzj6hvfhwptnzw290cr0000gn/T/pip-wheel-_amslhmy/distribute_e97abac72b614501be17b2c0ccfe1e3c/setuptools/__init__.py\", line 2, in <module>\n",
      "  \u001b[31m   \u001b[0m           from setuptools.extension import Extension, Library\n",
      "  \u001b[31m   \u001b[0m         File \"/private/var/folders/4c/hfqybgzj6hvfhwptnzw290cr0000gn/T/pip-wheel-_amslhmy/distribute_e97abac72b614501be17b2c0ccfe1e3c/setuptools/extension.py\", line 5, in <module>\n",
      "  \u001b[31m   \u001b[0m           from setuptools.dist import _get_unpatched\n",
      "  \u001b[31m   \u001b[0m         File \"/private/var/folders/4c/hfqybgzj6hvfhwptnzw290cr0000gn/T/pip-wheel-_amslhmy/distribute_e97abac72b614501be17b2c0ccfe1e3c/setuptools/dist.py\", line 7, in <module>\n",
      "  \u001b[31m   \u001b[0m           from setuptools.command.install import install\n",
      "  \u001b[31m   \u001b[0m         File \"/private/var/folders/4c/hfqybgzj6hvfhwptnzw290cr0000gn/T/pip-wheel-_amslhmy/distribute_e97abac72b614501be17b2c0ccfe1e3c/setuptools/command/__init__.py\", line 8, in <module>\n",
      "  \u001b[31m   \u001b[0m           from setuptools.command import install_scripts\n",
      "  \u001b[31m   \u001b[0m         File \"/private/var/folders/4c/hfqybgzj6hvfhwptnzw290cr0000gn/T/pip-wheel-_amslhmy/distribute_e97abac72b614501be17b2c0ccfe1e3c/setuptools/command/install_scripts.py\", line 3, in <module>\n",
      "  \u001b[31m   \u001b[0m           from pkg_resources import Distribution, PathMetadata, ensure_directory\n",
      "  \u001b[31m   \u001b[0m         File \"/private/var/folders/4c/hfqybgzj6hvfhwptnzw290cr0000gn/T/pip-wheel-_amslhmy/distribute_e97abac72b614501be17b2c0ccfe1e3c/pkg_resources.py\", line 1518, in <module>\n",
      "  \u001b[31m   \u001b[0m           register_loader_type(importlib_bootstrap.SourceFileLoader, DefaultProvider)\n",
      "  \u001b[31m   \u001b[0m       AttributeError: module 'importlib._bootstrap' has no attribute 'SourceFileLoader'\n",
      "  \u001b[31m   \u001b[0m       [end of output]\n",
      "  \u001b[31m   \u001b[0m \n",
      "  \u001b[31m   \u001b[0m   note: This error originates from a subprocess, and is likely not a problem with pip.\n",
      "  \u001b[31m   \u001b[0m error: metadata-generation-failed\n",
      "  \u001b[31m   \u001b[0m \n",
      "  \u001b[31m   \u001b[0m × Encountered error while generating package metadata.\n",
      "  \u001b[31m   \u001b[0m ╰─> See above for output.\n",
      "  \u001b[31m   \u001b[0m \n",
      "  \u001b[31m   \u001b[0m note: This is an issue with the package mentioned above, not pip.\n",
      "  \u001b[31m   \u001b[0m hint: See above for details.\n",
      "  \u001b[31m   \u001b[0m Traceback (most recent call last):\n",
      "  \u001b[31m   \u001b[0m   File \"/Users/swarnabharathimantena/opt/anaconda3/lib/python3.8/site-packages/setuptools/installer.py\", line 126, in fetch_build_egg\n",
      "  \u001b[31m   \u001b[0m     subprocess.check_call(cmd)\n",
      "  \u001b[31m   \u001b[0m   File \"/Users/swarnabharathimantena/opt/anaconda3/lib/python3.8/subprocess.py\", line 364, in check_call\n",
      "  \u001b[31m   \u001b[0m     raise CalledProcessError(retcode, cmd)\n",
      "  \u001b[31m   \u001b[0m subprocess.CalledProcessError: Command '['/Users/swarnabharathimantena/opt/anaconda3/bin/python', '-m', 'pip', '--disable-pip-version-check', 'wheel', '--no-deps', '-w', '/var/folders/4c/hfqybgzj6hvfhwptnzw290cr0000gn/T/tmpgezcsbpc', '--quiet', 'distribute']' returned non-zero exit status 1.\n",
      "  \u001b[31m   \u001b[0m \n",
      "  \u001b[31m   \u001b[0m The above exception was the direct cause of the following exception:\n",
      "  \u001b[31m   \u001b[0m \n",
      "  \u001b[31m   \u001b[0m Traceback (most recent call last):\n",
      "  \u001b[31m   \u001b[0m   File \"<string>\", line 2, in <module>\n",
      "  \u001b[31m   \u001b[0m   File \"<pip-setuptools-caller>\", line 34, in <module>\n",
      "  \u001b[31m   \u001b[0m   File \"/private/var/folders/4c/hfqybgzj6hvfhwptnzw290cr0000gn/T/pip-install-iyp035zr/dotenv_8ededc1feb5e47378387eee2aa82ccc5/setup.py\", line 13, in <module>\n",
      "  \u001b[31m   \u001b[0m     setup(name='dotenv',\n",
      "  \u001b[31m   \u001b[0m   File \"/Users/swarnabharathimantena/opt/anaconda3/lib/python3.8/site-packages/setuptools/__init__.py\", line 152, in setup\n",
      "  \u001b[31m   \u001b[0m     _install_setup_requires(attrs)\n",
      "  \u001b[31m   \u001b[0m   File \"/Users/swarnabharathimantena/opt/anaconda3/lib/python3.8/site-packages/setuptools/__init__.py\", line 147, in _install_setup_requires\n",
      "  \u001b[31m   \u001b[0m     dist.fetch_build_eggs(dist.setup_requires)\n",
      "  \u001b[31m   \u001b[0m   File \"/Users/swarnabharathimantena/opt/anaconda3/lib/python3.8/site-packages/setuptools/dist.py\", line 673, in fetch_build_eggs\n",
      "  \u001b[31m   \u001b[0m     resolved_dists = pkg_resources.working_set.resolve(\n",
      "  \u001b[31m   \u001b[0m   File \"/Users/swarnabharathimantena/opt/anaconda3/lib/python3.8/site-packages/pkg_resources/__init__.py\", line 764, in resolve\n",
      "  \u001b[31m   \u001b[0m     dist = best[req.key] = env.best_match(\n",
      "  \u001b[31m   \u001b[0m   File \"/Users/swarnabharathimantena/opt/anaconda3/lib/python3.8/site-packages/pkg_resources/__init__.py\", line 1049, in best_match\n",
      "  \u001b[31m   \u001b[0m     return self.obtain(req, installer)\n",
      "  \u001b[31m   \u001b[0m   File \"/Users/swarnabharathimantena/opt/anaconda3/lib/python3.8/site-packages/pkg_resources/__init__.py\", line 1061, in obtain\n",
      "  \u001b[31m   \u001b[0m     return installer(requirement)\n",
      "  \u001b[31m   \u001b[0m   File \"/Users/swarnabharathimantena/opt/anaconda3/lib/python3.8/site-packages/setuptools/dist.py\", line 732, in fetch_build_egg\n",
      "  \u001b[31m   \u001b[0m     return fetch_build_egg(self, req)\n",
      "  \u001b[31m   \u001b[0m   File \"/Users/swarnabharathimantena/opt/anaconda3/lib/python3.8/site-packages/setuptools/installer.py\", line 128, in fetch_build_egg\n",
      "  \u001b[31m   \u001b[0m     raise DistutilsError(str(e)) from e\n",
      "  \u001b[31m   \u001b[0m distutils.errors.DistutilsError: Command '['/Users/swarnabharathimantena/opt/anaconda3/bin/python', '-m', 'pip', '--disable-pip-version-check', 'wheel', '--no-deps', '-w', '/var/folders/4c/hfqybgzj6hvfhwptnzw290cr0000gn/T/tmpgezcsbpc', '--quiet', 'distribute']' returned non-zero exit status 1.\n",
      "  \u001b[31m   \u001b[0m \u001b[31m[end of output]\u001b[0m\n",
      "  \n",
      "  \u001b[1;35mnote\u001b[0m: This error originates from a subprocess, and is likely not a problem with pip.\n",
      "\u001b[1;31merror\u001b[0m: \u001b[1mmetadata-generation-failed\u001b[0m\n",
      "\n",
      "\u001b[31m×\u001b[0m Encountered error while generating package metadata.\n",
      "\u001b[31m╰─>\u001b[0m See above for output.\n",
      "\n",
      "\u001b[1;35mnote\u001b[0m: This is an issue with the package mentioned above, not pip.\n",
      "\u001b[1;36mhint\u001b[0m: See above for details.\n",
      "\u001b[?25h"
     ]
    }
   ],
   "source": [
    "!pip install dotenv"
   ]
  },
  {
   "cell_type": "code",
   "execution_count": null,
   "metadata": {},
   "outputs": [],
   "source": []
  }
 ],
 "metadata": {
  "kernelspec": {
   "display_name": "Python 3",
   "language": "python",
   "name": "python3"
  },
  "language_info": {
   "codemirror_mode": {
    "name": "ipython",
    "version": 3
   },
   "file_extension": ".py",
   "mimetype": "text/x-python",
   "name": "python",
   "nbconvert_exporter": "python",
   "pygments_lexer": "ipython3",
   "version": "3.8.5"
  }
 },
 "nbformat": 4,
 "nbformat_minor": 4
}
